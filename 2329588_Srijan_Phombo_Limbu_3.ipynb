{
  "cells": [
    {
      "cell_type": "markdown",
      "id": "ae42d712-553b-42ee-986b-8b6acf5b58e4",
      "metadata": {
        "id": "ae42d712-553b-42ee-986b-8b6acf5b58e4"
      },
      "source": [
        "## Task - 1: Implementation of MCP Neurons:"
      ]
    },
    {
      "cell_type": "markdown",
      "id": "0875303b-d173-433f-8d11-ac0f86f5883e",
      "metadata": {
        "id": "0875303b-d173-433f-8d11-ac0f86f5883e"
      },
      "source": [
        "#### Design a MCP Neuron for ”AND” Boolean Functions and ”OR” Boolean Functions with two inputs:"
      ]
    },
    {
      "cell_type": "markdown",
      "id": "8388f370-c725-4e4c-96e1-9ba9a9190278",
      "metadata": {
        "id": "8388f370-c725-4e4c-96e1-9ba9a9190278"
      },
      "source": [
        "##### For ”AND” Operations"
      ]
    },
    {
      "cell_type": "code",
      "execution_count": null,
      "id": "a32dee72-c549-47f1-bf8a-b0595ba360dc",
      "metadata": {
        "id": "a32dee72-c549-47f1-bf8a-b0595ba360dc"
      },
      "outputs": [],
      "source": [
        "def MCP_Neurons_AND(X1, X2, T):\n",
        "    \"\"\"\n",
        "    This function implements basic AND operations with MCP Neuron for two inputs.\n",
        "    Arguments:\n",
        "    Inputs:\n",
        "    X1 (1D array): An array of binary values.\n",
        "    X2 (1D array): An array of binary values.\n",
        "    T (int): Threshold value.\n",
        "    Output:\n",
        "    state_neuron (1D list): The state of the neuron (1 or 0) for the particular inputs.\n",
        "    \"\"\"\n",
        "    assert len(X1) == len(X2)\n",
        "    state_neuron = []\n",
        "\n",
        "    for i in range(len(X1)):\n",
        "        if (X1[i] + X2[i]) >= T:\n",
        "            state_neuron.append(1)\n",
        "        else:\n",
        "            state_neuron.append(0)\n",
        "\n",
        "    return state_neuron"
      ]
    },
    {
      "cell_type": "markdown",
      "id": "917c2d1d-f935-4102-9b99-7e9e55325b9d",
      "metadata": {
        "id": "917c2d1d-f935-4102-9b99-7e9e55325b9d"
      },
      "source": [
        "##### Sample Usage for ”AND” Function."
      ]
    },
    {
      "cell_type": "code",
      "execution_count": null,
      "id": "c936a0e1-a610-48ce-b38f-fbbad0bc4b6a",
      "metadata": {
        "id": "c936a0e1-a610-48ce-b38f-fbbad0bc4b6a",
        "outputId": "2664f82a-cbb8-4970-e20a-7c6080442829"
      },
      "outputs": [
        {
          "name": "stdout",
          "output_type": "stream",
          "text": [
            "Output of AND gate for inputs [0, 0, 1, 1] and [0, 1, 0, 1] with threshold 2: [0, 0, 0, 1]\n"
          ]
        }
      ],
      "source": [
        "# Example usage for MCP_Neurons_AND function\n",
        "X1 = [0, 0, 1, 1]\n",
        "X2 = [0, 1, 0, 1]\n",
        "T = 2 # Threshold value\n",
        "result = MCP_Neurons_AND(X1, X2, T)\n",
        "print(f\"Output of AND gate for inputs {X1} and {X2} with threshold {T}: {result}\")"
      ]
    },
    {
      "cell_type": "markdown",
      "id": "7df66a2b-82df-4da4-933f-1d66e9e53bd6",
      "metadata": {
        "id": "7df66a2b-82df-4da4-933f-1d66e9e53bd6"
      },
      "source": [
        "##### For ”OR” Operations."
      ]
    },
    {
      "cell_type": "code",
      "execution_count": null,
      "id": "dfac43dd-d3c6-44de-be85-a0e4bb598502",
      "metadata": {
        "id": "dfac43dd-d3c6-44de-be85-a0e4bb598502"
      },
      "outputs": [],
      "source": [
        "def MCP_Neurons_OR(X1, X2, T):\n",
        "    \"\"\"\n",
        "    This function implements basic OR operations with MCP Neuron for two inputs.\n",
        "    Arguments:\n",
        "    Inputs:\n",
        "    X1 (1D array): An array of binary values.\n",
        "    X2 (1D array): An array of binary values.\n",
        "    T (int): Threshold value.\n",
        "    Output:\n",
        "    state_neuron (1D list): The state of the neuron (1 or 0) for the particular inputs.\n",
        "    \"\"\"\n",
        "    assert len(X1) == len(X2)\n",
        "    state_neuron = []\n",
        "\n",
        "    for i in range(len(X1)):\n",
        "        if (X1[i] + X2[i]) >= T:\n",
        "            state_neuron.append(1)\n",
        "        else:\n",
        "            state_neuron.append(0)\n",
        "\n",
        "    return state_neuron"
      ]
    },
    {
      "cell_type": "markdown",
      "id": "94ad102a-47c7-482d-92b8-ca7cb8664edb",
      "metadata": {
        "id": "94ad102a-47c7-482d-92b8-ca7cb8664edb"
      },
      "source": [
        "##### Sample Usage for ”OR” Function."
      ]
    },
    {
      "cell_type": "code",
      "execution_count": null,
      "id": "55fd84d2-9178-43b7-8698-94854f7f84fb",
      "metadata": {
        "id": "55fd84d2-9178-43b7-8698-94854f7f84fb",
        "outputId": "5e80e851-30a4-4628-f7c3-61f6614c366c"
      },
      "outputs": [
        {
          "name": "stdout",
          "output_type": "stream",
          "text": [
            "Output of OR gate for inputs [0, 0, 1, 1] and [0, 1, 0, 1] with threshold 1: [0, 1, 1, 1]\n"
          ]
        }
      ],
      "source": [
        "# Example usage for MCP_Neurons_OR function\n",
        "T_or = 1 # Threshold value for OR gate\n",
        "result_or = MCP_Neurons_OR(X1, X2, T_or)\n",
        "print(f\"Output of OR gate for inputs {X1} and {X2} with threshold {T_or}: {result_or}\")"
      ]
    },
    {
      "cell_type": "markdown",
      "id": "0a6ac2ba-feb2-4609-b6fd-84c8cf7303ab",
      "metadata": {
        "id": "0a6ac2ba-feb2-4609-b6fd-84c8cf7303ab"
      },
      "source": [
        "#### Answering the Questions:\n",
        "##### Question - 1: Limitations of MCP Neurons\n",
        "1. MCP Neurons cannot solve problems that require non-linearly separable decision boundaries, such as the XOR function.\n",
        "2. It only works with binary inputs and does not handle real-valued inputs efficiently.\n",
        "3. It does not support learning; weights and thresholds must be hand-designed.\n",
        "4. MCP Neurons are incapable of deep learning as they lack multiple layers and activation functions.\n",
        "5. It cannot handle complex functions requiring multiple layers of neurons.\n",
        "\n",
        "##### Question - 2: XOR Function using MCP Neuron\n",
        "The XOR function cannot be implemented directly using a single MCP neuron because it is not linearly separable.\n",
        "However, we can use a combination of MCP neurons to implement XOR as follows:\n",
        "1. Use an MCP neuron to compute the AND function.\n",
        "2. Use another MCP neuron to compute the OR function.\n",
        "3. compute the NAND (NOT AND) function by using an additional MCP neuron.\n",
        "4. Finally, compute XOR as: XOR = OR - AND (i.e., XOR = (X1 OR X2) AND NOT(X1 AND X2))"
      ]
    },
    {
      "cell_type": "markdown",
      "id": "45610356-aef1-470d-9906-591bb84b8b8e",
      "metadata": {
        "id": "45610356-aef1-470d-9906-591bb84b8b8e"
      },
      "source": [
        "## Task 2 - Task 2: Perceptron Algorithm for 0 vs 1 Classification."
      ]
    },
    {
      "cell_type": "code",
      "source": [
        "from google.colab import drive\n",
        "drive.mount('/content/drive')\n"
      ],
      "metadata": {
        "colab": {
          "base_uri": "https://localhost:8080/"
        },
        "id": "tOZDiKvWylX7",
        "outputId": "75e2e05f-f52a-4064-de53-47fada3422ff"
      },
      "id": "tOZDiKvWylX7",
      "execution_count": null,
      "outputs": [
        {
          "output_type": "stream",
          "name": "stdout",
          "text": [
            "Mounted at /content/drive\n"
          ]
        }
      ]
    },
    {
      "cell_type": "markdown",
      "id": "853e4282-ce25-4d67-9c20-6ca07dcca274",
      "metadata": {
        "id": "853e4282-ce25-4d67-9c20-6ca07dcca274"
      },
      "source": [
        "#### 1.Loading the Dataset:"
      ]
    },
    {
      "cell_type": "code",
      "execution_count": null,
      "id": "aab210f6-9363-4336-846f-5ea9848b82f5",
      "metadata": {
        "colab": {
          "base_uri": "https://localhost:8080/"
        },
        "id": "aab210f6-9363-4336-846f-5ea9848b82f5",
        "outputId": "8a3ee3f3-bb7f-410c-a67c-0a8f8a677209"
      },
      "outputs": [
        {
          "output_type": "stream",
          "name": "stdout",
          "text": [
            "Feature matrix shape: (12665, 784)\n",
            "Label vector shape: (12665,)\n"
          ]
        }
      ],
      "source": [
        "import pandas as pd\n",
        "import numpy as np\n",
        "df_0_1 = pd.read_csv(r\"/content/drive/MyDrive/2025 - 6CS012 - AI and ML - Student/Week - 3 - Getting Started with Deep Learning and Neural Network/mnist_0_and_1.csv\")\n",
        "# Extract features and labels\n",
        "X = df_0_1.drop(columns=[\"label\"]).values # 784 pixels\n",
        "y = df_0_1[\"label\"].values # Labels (0 or 1)\n",
        "# Check the shape of the features and labels\n",
        "print(\"Feature matrix shape:\", X.shape)\n",
        "print(\"Label vector shape:\", y.shape)"
      ]
    },
    {
      "cell_type": "markdown",
      "id": "f2d0229b-4f31-4b92-b380-6cb43d2d7be9",
      "metadata": {
        "id": "f2d0229b-4f31-4b92-b380-6cb43d2d7be9"
      },
      "source": [
        "#### Answer the Following Question:\n",
        "##### 1. Question - 1: What does the shape of X represent?\n",
        "The shape of X represents the dimensions of the feature matrix and X.shape gives us (number of samples, number of features). i.e., X.shape = (m, 784): Feature matrix with m images, each having 784 pixel values.\n",
        "##### 2. Question - 2: What does the shape of X represent?\n",
        "The shape of y represents the dimensions of the label vector (target values) and y.shape = (m,): Label vector with m values (each 0 or 1)."
      ]
    },
    {
      "cell_type": "markdown",
      "id": "00727cb0-ffe0-4a54-b068-20f0eb9f433c",
      "metadata": {
        "id": "00727cb0-ffe0-4a54-b068-20f0eb9f433c"
      },
      "source": [
        "#### 2. Visualizing the Dataset."
      ]
    },
    {
      "cell_type": "code",
      "execution_count": null,
      "id": "b1057853-fa23-4e8a-b785-6ff977a43c72",
      "metadata": {
        "id": "b1057853-fa23-4e8a-b785-6ff977a43c72",
        "outputId": "fb6297b2-1305-478f-bb8f-ba60b4e0fc41"
      },
      "outputs": [
        {
          "data": {
            "image/png": "[encoded data removed]",
            "text/plain": [
              "<Figure size 1000x500 with 10 Axes>"
            ]
          },
          "metadata": {},
          "output_type": "display_data"
        }
      ],
      "source": [
        "import matplotlib.pyplot as plt\n",
        "# Separate images for label 0 and label 1\n",
        "images_0 = X[y == 0] # Get all images with label 0\n",
        "images_1 = X[y == 1] # Get all images with label 1\n",
        "fig, axes = plt.subplots(2, 5, figsize=(10, 5))\n",
        "# Check if the arrays have the required amount of data\n",
        "if len(images_0) < 5 or len(images_1) < 5:\n",
        "    print(\"Error: Not enough images in images_0 or images_1 to plot 5 images.\")\n",
        "else:\n",
        "    for i in range(5):\n",
        "        # Plot digit 0\n",
        "        axes[0, i].imshow(images_0[i].reshape(28, 28), cmap=\"gray\")\n",
        "        axes[0, i].set_title(\"Label: 0\")\n",
        "        axes[0, i].axis(\"off\")\n",
        "        # Plot digit 1\n",
        "        axes[1, i].imshow(images_1[i].reshape(28, 28), cmap=\"gray\")\n",
        "        axes[1, i].set_title(\"Label: 1\")\n",
        "        axes[1, i].axis(\"off\")\n",
        "    plt.suptitle(\"First 5 Images of 0 and 1 from MNIST Subset\")\n",
        "    plt.show()"
      ]
    },
    {
      "cell_type": "markdown",
      "id": "b088401f-8008-4c9c-b167-82d64b6bdc47",
      "metadata": {
        "id": "b088401f-8008-4c9c-b167-82d64b6bdc47"
      },
      "source": [
        "#### 3. Initialize Weights and Bias:"
      ]
    },
    {
      "cell_type": "code",
      "execution_count": null,
      "id": "c44bd243-0004-4f4e-b378-d2ea3c11246a",
      "metadata": {
        "id": "c44bd243-0004-4f4e-b378-d2ea3c11246a"
      },
      "outputs": [],
      "source": [
        "# Initialize weights and bias\n",
        "weights = np.zeros(X.shape[1]) # 784 weights (one for each pixel)\n",
        "bias = 0\n",
        "learning_rate = 0.1\n",
        "epochs = 100"
      ]
    },
    {
      "cell_type": "markdown",
      "id": "80ef208d-35bb-498c-8953-20cb5308dc12",
      "metadata": {
        "id": "80ef208d-35bb-498c-8953-20cb5308dc12"
      },
      "source": [
        "#### Answer the Following Question:\n",
        "##### 1. Question - 3: What does the weights array represent in this context?\n",
        "Ans: The weights array represents the importance (contribution) of each pixel in the classification of digits 0 and 1.\n",
        "i.Since each image in the dataset has 784 pixels (28x28), we initialize an array of weights with 784 values.\n",
        "ii.These weights determine how much influence each pixel has on the final decision made by the model.\n",
        "iii.During training, these weights are updated to minimize classification errors and improve the model's accuracy.\n",
        "##### 2. Question - 4: Why are we initializing the weights to zero? What effect could this have on the training process?\n",
        "We initialize the weights to zero because it is a common practice when training a simple model like a perceptron or logistic regression.\n",
        "\n",
        "Advantages:Simple and easy to implement – The model starts from a neutral state.\n",
        "Ensures consistent initialization – Prevents random starting points from affecting early learning.\n",
        "\n",
        "Drawbacks:Symmetry Problem – If all weights are initialized to zero, all neurons update in the same way, preventing the model from learning effectively.\n",
        "Slow Convergence – The model may take longer to find optimal weights."
      ]
    },
    {
      "cell_type": "markdown",
      "id": "15acb066-005b-4d61-82e4-bd0876987a85",
      "metadata": {
        "id": "15acb066-005b-4d61-82e4-bd0876987a85"
      },
      "source": [
        "#### 4. Implement a Decision Function or Activation Function:"
      ]
    },
    {
      "cell_type": "code",
      "execution_count": null,
      "id": "590daadd-aaa0-4b6f-bb9b-163d413c042c",
      "metadata": {
        "id": "590daadd-aaa0-4b6f-bb9b-163d413c042c"
      },
      "outputs": [],
      "source": [
        "import numpy as np\n",
        "\n",
        "def decision_function(X, weights, bias):\n",
        "    \"\"\"\n",
        "    Compute the predicted labels for the input data.\n",
        "\n",
        "    Parameters:\n",
        "    - X: Features (input data) as a numpy array of shape (n_samples, n_features)\n",
        "    - weights: Updated weights after training\n",
        "    - bias: Updated bias after training\n",
        "\n",
        "    Returns:\n",
        "    - y_pred_all: The predicted labels for the input data (0 or 1)\n",
        "    \"\"\"\n",
        "    predictions = np.dot(X, weights) + bias\n",
        "    y_pred_all = np.where(predictions >= 0, 1, 0)\n",
        "    return y_pred_all\n"
      ]
    },
    {
      "cell_type": "markdown",
      "id": "1deb2bae-4414-4e67-9c60-3f324ac6f356",
      "metadata": {
        "id": "1deb2bae-4414-4e67-9c60-3f324ac6f356"
      },
      "source": [
        "#### 5. Implement the Perceptron Learning Algorithm:"
      ]
    },
    {
      "cell_type": "code",
      "execution_count": null,
      "id": "9065fc7a-efbd-4ae0-873e-d3c2c477b37f",
      "metadata": {
        "id": "9065fc7a-efbd-4ae0-873e-d3c2c477b37f"
      },
      "outputs": [],
      "source": [
        "import numpy as np\n",
        "\n",
        "def train_perceptron(X, y, weights, bias, learning_rate=0.1, epochs=100):\n",
        "    \"\"\"\n",
        "    Train the perceptron using the Perceptron Learning Algorithm.\n",
        "\n",
        "    Parameters:\n",
        "    - X: Features (input data) as a numpy array of shape (n_samples, n_features)\n",
        "    - y: Labels (true output) as a numpy array of shape (n_samples,)\n",
        "    - weights: Initial weights as a numpy array of shape (n_features,)\n",
        "    - bias: Initial bias value (scalar)\n",
        "    - learning_rate: Learning rate for weight updates (default is 0.1)\n",
        "    - epochs: Number of iterations to train the model (default is 100)\n",
        "\n",
        "    Returns:\n",
        "    - weights: Updated weights after training\n",
        "    - bias: Updated bias after training\n",
        "    - accuracy: Final accuracy after training\n",
        "    \"\"\"\n",
        "\n",
        "    n_samples = X.shape[0]  # Number of training samples\n",
        "\n",
        "    for epoch in range(epochs):\n",
        "        correct_predictions = 0  # Track correct predictions\n",
        "\n",
        "        for i in range(n_samples):\n",
        "            # Compute prediction using step function\n",
        "            prediction = np.dot(X[i], weights) + bias\n",
        "            y_pred = 1 if prediction >= 0 else 0  # Step function\n",
        "\n",
        "            # Update weights and bias if prediction is incorrect\n",
        "            if y_pred != y[i]:\n",
        "                update = learning_rate * (y[i] - y_pred)\n",
        "                weights += update * X[i]\n",
        "                bias += update\n",
        "            else:\n",
        "                correct_predictions += 1\n",
        "\n",
        "        # Calculate accuracy after each epoch\n",
        "        accuracy = correct_predictions / n_samples\n",
        "\n",
        "        # Print accuracy for debugging\n",
        "        print(f\"Epoch {epoch+1}/{epochs} - Accuracy: {accuracy:.2f}\")\n",
        "\n",
        "    return weights, bias, accuracy\n"
      ]
    },
    {
      "cell_type": "markdown",
      "id": "8db34554-0907-438a-aa86-6a4706f6f82a",
      "metadata": {
        "id": "8db34554-0907-438a-aa86-6a4706f6f82a"
      },
      "source": [
        "#### Answer the Following Question:\n",
        "##### 1. Question - 5: What is the purpose of the output = np.dot(X[i], weights) + bias line?\n",
        "This step calculates the activation function input, which helps decide whether the perceptron should output 0 or 1.\n",
        "\n",
        "##### 2. Question - 6: What happens when the prediction is wrong? How are the weights and bias updated?\n",
        "When the prediction is wrong, the perceptron updates the weights and bias using the Perceptron.\n",
        "\n",
        "It is updated:\n",
        "\n",
        "If y_pred (predicted label) is different from y[i] (true label):\n",
        "\n",
        "Calculate update = learning_rate * (y[i] - y_pred), which gives either +learning_rate or -learning_rate.\n",
        "\n",
        "If y_pred is too low, the weights increase; if y_pred is too high, the weights decrease.\n",
        "The bias also updates similarly to help adjust the decision boundary.\n",
        "\n",
        "##### 3. Question - 7:Why is the final accuracy important, and what do you expect it to be?\n",
        "Final accuracy is important because it helps determine whether training is sufficient,whether the model is generalizing well to unseen data, whether hyperparameters (learning rate, epochs) need adjustment.\n",
        "\n",
        "Working with a binary classification problem (0 vs 1) and the dataset is simple (MNIST digits 0 and 1), I expect the accuracy to reach close to 100% after training.\n"
      ]
    },
    {
      "cell_type": "markdown",
      "id": "d3aceb9a-f8ad-4295-9252-f99d8406db78",
      "metadata": {
        "id": "d3aceb9a-f8ad-4295-9252-f99d8406db78"
      },
      "source": [
        "#### 6. Training the Perceptron Algorithm:"
      ]
    },
    {
      "cell_type": "code",
      "execution_count": null,
      "id": "def77647-26ff-481b-99d5-0e2320720bc1",
      "metadata": {
        "id": "def77647-26ff-481b-99d5-0e2320720bc1",
        "outputId": "b5ef2142-55c6-4a1e-f53e-a2987af50d34"
      },
      "outputs": [
        {
          "name": "stdout",
          "output_type": "stream",
          "text": [
            "Epoch 1/100 - Accuracy: 1.00\n",
            "Epoch 2/100 - Accuracy: 1.00\n",
            "Epoch 3/100 - Accuracy: 1.00\n",
            "Epoch 4/100 - Accuracy: 1.00\n",
            "Epoch 5/100 - Accuracy: 1.00\n",
            "Epoch 6/100 - Accuracy: 1.00\n",
            "Epoch 7/100 - Accuracy: 1.00\n",
            "Epoch 8/100 - Accuracy: 1.00\n",
            "Epoch 9/100 - Accuracy: 1.00\n",
            "Epoch 10/100 - Accuracy: 1.00\n",
            "Epoch 11/100 - Accuracy: 1.00\n",
            "Epoch 12/100 - Accuracy: 1.00\n",
            "Epoch 13/100 - Accuracy: 1.00\n",
            "Epoch 14/100 - Accuracy: 1.00\n",
            "Epoch 15/100 - Accuracy: 1.00\n",
            "Epoch 16/100 - Accuracy: 1.00\n",
            "Epoch 17/100 - Accuracy: 1.00\n",
            "Epoch 18/100 - Accuracy: 1.00\n",
            "Epoch 19/100 - Accuracy: 1.00\n",
            "Epoch 20/100 - Accuracy: 1.00\n",
            "Epoch 21/100 - Accuracy: 1.00\n",
            "Epoch 22/100 - Accuracy: 1.00\n",
            "Epoch 23/100 - Accuracy: 1.00\n",
            "Epoch 24/100 - Accuracy: 1.00\n",
            "Epoch 25/100 - Accuracy: 1.00\n",
            "Epoch 26/100 - Accuracy: 1.00\n",
            "Epoch 27/100 - Accuracy: 1.00\n",
            "Epoch 28/100 - Accuracy: 1.00\n",
            "Epoch 29/100 - Accuracy: 1.00\n",
            "Epoch 30/100 - Accuracy: 1.00\n",
            "Epoch 31/100 - Accuracy: 1.00\n",
            "Epoch 32/100 - Accuracy: 1.00\n",
            "Epoch 33/100 - Accuracy: 1.00\n",
            "Epoch 34/100 - Accuracy: 1.00\n",
            "Epoch 35/100 - Accuracy: 1.00\n",
            "Epoch 36/100 - Accuracy: 1.00\n",
            "Epoch 37/100 - Accuracy: 1.00\n",
            "Epoch 38/100 - Accuracy: 1.00\n",
            "Epoch 39/100 - Accuracy: 1.00\n",
            "Epoch 40/100 - Accuracy: 1.00\n",
            "Epoch 41/100 - Accuracy: 1.00\n",
            "Epoch 42/100 - Accuracy: 1.00\n",
            "Epoch 43/100 - Accuracy: 1.00\n",
            "Epoch 44/100 - Accuracy: 1.00\n",
            "Epoch 45/100 - Accuracy: 1.00\n",
            "Epoch 46/100 - Accuracy: 1.00\n",
            "Epoch 47/100 - Accuracy: 1.00\n",
            "Epoch 48/100 - Accuracy: 1.00\n",
            "Epoch 49/100 - Accuracy: 1.00\n",
            "Epoch 50/100 - Accuracy: 1.00\n",
            "Epoch 51/100 - Accuracy: 1.00\n",
            "Epoch 52/100 - Accuracy: 1.00\n",
            "Epoch 53/100 - Accuracy: 1.00\n",
            "Epoch 54/100 - Accuracy: 1.00\n",
            "Epoch 55/100 - Accuracy: 1.00\n",
            "Epoch 56/100 - Accuracy: 1.00\n",
            "Epoch 57/100 - Accuracy: 1.00\n",
            "Epoch 58/100 - Accuracy: 1.00\n",
            "Epoch 59/100 - Accuracy: 1.00\n",
            "Epoch 60/100 - Accuracy: 1.00\n",
            "Epoch 61/100 - Accuracy: 1.00\n",
            "Epoch 62/100 - Accuracy: 1.00\n",
            "Epoch 63/100 - Accuracy: 1.00\n",
            "Epoch 64/100 - Accuracy: 1.00\n",
            "Epoch 65/100 - Accuracy: 1.00\n",
            "Epoch 66/100 - Accuracy: 1.00\n",
            "Epoch 67/100 - Accuracy: 1.00\n",
            "Epoch 68/100 - Accuracy: 1.00\n",
            "Epoch 69/100 - Accuracy: 1.00\n",
            "Epoch 70/100 - Accuracy: 1.00\n",
            "Epoch 71/100 - Accuracy: 1.00\n",
            "Epoch 72/100 - Accuracy: 1.00\n",
            "Epoch 73/100 - Accuracy: 1.00\n",
            "Epoch 74/100 - Accuracy: 1.00\n",
            "Epoch 75/100 - Accuracy: 1.00\n",
            "Epoch 76/100 - Accuracy: 1.00\n",
            "Epoch 77/100 - Accuracy: 1.00\n",
            "Epoch 78/100 - Accuracy: 1.00\n",
            "Epoch 79/100 - Accuracy: 1.00\n",
            "Epoch 80/100 - Accuracy: 1.00\n",
            "Epoch 81/100 - Accuracy: 1.00\n",
            "Epoch 82/100 - Accuracy: 1.00\n",
            "Epoch 83/100 - Accuracy: 1.00\n",
            "Epoch 84/100 - Accuracy: 1.00\n",
            "Epoch 85/100 - Accuracy: 1.00\n",
            "Epoch 86/100 - Accuracy: 1.00\n",
            "Epoch 87/100 - Accuracy: 1.00\n",
            "Epoch 88/100 - Accuracy: 1.00\n",
            "Epoch 89/100 - Accuracy: 1.00\n",
            "Epoch 90/100 - Accuracy: 1.00\n",
            "Epoch 91/100 - Accuracy: 1.00\n",
            "Epoch 92/100 - Accuracy: 1.00\n",
            "Epoch 93/100 - Accuracy: 1.00\n",
            "Epoch 94/100 - Accuracy: 1.00\n",
            "Epoch 95/100 - Accuracy: 1.00\n",
            "Epoch 96/100 - Accuracy: 1.00\n",
            "Epoch 97/100 - Accuracy: 1.00\n",
            "Epoch 98/100 - Accuracy: 1.00\n",
            "Epoch 99/100 - Accuracy: 1.00\n",
            "Epoch 100/100 - Accuracy: 1.00\n",
            "The Final Accuracy is:  1.0\n"
          ]
        }
      ],
      "source": [
        "# After training the model with the perceptron_learning_algorithm\n",
        "weights, bias, accuracy = train_perceptron(X, y, weights, bias)\n",
        "# Evaluate the model using the new function\n",
        "print(\"The Final Accuracy is: \", accuracy)"
      ]
    },
    {
      "cell_type": "markdown",
      "id": "273bc23c-27d6-46dc-a844-bcd8c74b49dd",
      "metadata": {
        "id": "273bc23c-27d6-46dc-a844-bcd8c74b49dd"
      },
      "source": [
        "#### 7. Visualizing the Misclassified Image:"
      ]
    },
    {
      "cell_type": "code",
      "execution_count": null,
      "id": "731193d6-e96e-4045-a456-6085d4d5c459",
      "metadata": {
        "id": "731193d6-e96e-4045-a456-6085d4d5c459",
        "outputId": "812cca4f-3d68-4e07-9251-a8f4276c8981"
      },
      "outputs": [
        {
          "name": "stdout",
          "output_type": "stream",
          "text": [
            "Final Accuracy: 1.0000\n",
            "All images were correctly classified!\n"
          ]
        }
      ],
      "source": [
        "# Get predictions for all data points\n",
        "predictions = np.dot(X, weights) + bias\n",
        "y_pred = np.where(predictions >= 0, 1, 0)\n",
        "# Calculate final accuracy\n",
        "final_accuracy = np.mean(y_pred == y)\n",
        "print(f\"Final Accuracy: {final_accuracy:.4f}\")\n",
        "# Step 5: Visualize Misclassified Images\n",
        "misclassified_idx = np.where(y_pred != y)[0]\n",
        "if len(misclassified_idx) > 0:\n",
        "    fig, axes = plt.subplots(2, 5, figsize=(10, 5))\n",
        "    for ax, idx in zip(axes.flat, misclassified_idx[:10]): # Show 10 misclassified images\n",
        "        ax.imshow(X[idx].reshape(28, 28), cmap=\"gray\")\n",
        "        ax.set_title(f\"Pred: {y_pred[idx]}, True: {y[idx]}\")\n",
        "        ax.axis(\"off\")\n",
        "    plt.suptitle(\"Misclassified Images\")\n",
        "    plt.show()\n",
        "else:\n",
        "    print(\"All images were correctly classified!\")"
      ]
    },
    {
      "cell_type": "markdown",
      "id": "bcfdf85a-1787-4664-9253-6aa73cb51dad",
      "metadata": {
        "id": "bcfdf85a-1787-4664-9253-6aa73cb51dad"
      },
      "source": [
        "#### Answer the Following Question:\n",
        "##### 1. Question - 8:What does misclassified idx store, and how is it used in this code?\n",
        "The variable: misclassified_idx = np.where(y_pred != y)[0] stores the indices of misclassified samples in the dataset.\n",
        "\n",
        "If there are misclassified images (len(misclassified_idx) > 0), it selects the first 10 misclassified images and plots them.\n",
        "\n",
        "##### 2. Question - 9: How do you interpret the result if the output is ”All images were correctly classified!”?\n",
        "\n",
        "If the output is ”All images were correctly classified!” then the perceptron achieved 100% accuracy, meaning: dataset is linearly separable, training was successful, model does not require further training."
      ]
    },
    {
      "cell_type": "markdown",
      "id": "ea924367-9448-43a6-8f42-a5d1c9c580cd",
      "metadata": {
        "id": "ea924367-9448-43a6-8f42-a5d1c9c580cd"
      },
      "source": [
        "## Task 3: Perceptron Algorithm for 3 vs 5 Classification."
      ]
    },
    {
      "cell_type": "code",
      "execution_count": null,
      "id": "3bc49a01-dc3c-4bba-a164-12dd1593cbee",
      "metadata": {
        "colab": {
          "base_uri": "https://localhost:8080/"
        },
        "id": "3bc49a01-dc3c-4bba-a164-12dd1593cbee",
        "outputId": "e0d2c4ba-dda9-4013-af11-3e372daf420c"
      },
      "outputs": [
        {
          "output_type": "stream",
          "name": "stdout",
          "text": [
            "Feature matrix shape: (2741, 784)\n",
            "Label vector shape: (2741,)\n"
          ]
        }
      ],
      "source": [
        "import pandas as pd\n",
        "import numpy as np\n",
        "df_0_1 = pd.read_csv(r\"/content/drive/MyDrive/2025 - 6CS012 - AI and ML - Student/Week - 3 - Getting Started with Deep Learning and Neural Network/mnist_3_and_5.csv\")\n",
        "# Extract features and labels\n",
        "X = df_0_1.drop(columns=[\"label\"]).values # 784 pixels\n",
        "y = df_0_1[\"label\"].values # Labels (0 or 1)\n",
        "# Check the shape of the features and labels\n",
        "print(\"Feature matrix shape:\", X.shape)\n",
        "print(\"Label vector shape:\", y.shape)"
      ]
    },
    {
      "cell_type": "code",
      "execution_count": null,
      "id": "8285eb6d-13ce-49be-ad34-468ff0fbe3fe",
      "metadata": {
        "id": "8285eb6d-13ce-49be-ad34-468ff0fbe3fe",
        "outputId": "fb81fa21-96d6-43f8-d4a6-6f984dfe0204"
      },
      "outputs": [
        {
          "data": {
            "image/png": "[encoded data removed]",
            "text/plain": [
              "<Figure size 1000x500 with 10 Axes>"
            ]
          },
          "metadata": {},
          "output_type": "display_data"
        }
      ],
      "source": [
        "import matplotlib.pyplot as plt\n",
        "\n",
        "# Separate images for label 3 and label 5\n",
        "images_3 = X[y == 3]  # Get all images with label 3\n",
        "images_5 = X[y == 5]  # Get all images with label 5\n",
        "\n",
        "fig, axes = plt.subplots(2, 5, figsize=(10, 5))\n",
        "\n",
        "# Check if the arrays have the required amount of data\n",
        "if len(images_3) < 5 or len(images_5) < 5:\n",
        "    print(\"Error: Not enough images in images_3 or images_5 to plot 5 images.\")\n",
        "else:\n",
        "    for i in range(5):\n",
        "        # Plot digit 3\n",
        "        axes[0, i].imshow(images_3[i].reshape(28, 28), cmap=\"gray\")\n",
        "        axes[0, i].set_title(\"Label: 3\")\n",
        "        axes[0, i].axis(\"off\")\n",
        "\n",
        "        # Plot digit 5\n",
        "        axes[1, i].imshow(images_5[i].reshape(28, 28), cmap=\"gray\")\n",
        "        axes[1, i].set_title(\"Label: 5\")\n",
        "        axes[1, i].axis(\"off\")\n",
        "\n",
        "    plt.suptitle(\"First 5 Images of 3 and 5 from MNIST Subset\")\n",
        "    plt.show()\n"
      ]
    },
    {
      "cell_type": "code",
      "execution_count": null,
      "id": "aff33812-fe1d-4d9c-a91b-1857ff78b935",
      "metadata": {
        "id": "aff33812-fe1d-4d9c-a91b-1857ff78b935"
      },
      "outputs": [],
      "source": [
        "# Initialize weights and bias\n",
        "weights = np.zeros(X.shape[1]) # 784 weights (one for each pixel)\n",
        "bias = 0\n",
        "learning_rate = 0.1\n",
        "epochs = 100"
      ]
    },
    {
      "cell_type": "code",
      "execution_count": null,
      "id": "31439e26-7a5d-4d28-900f-15c0ed13f7ca",
      "metadata": {
        "id": "31439e26-7a5d-4d28-900f-15c0ed13f7ca"
      },
      "outputs": [],
      "source": [
        "import numpy as np\n",
        "\n",
        "def decision_function(X, weights, bias):\n",
        "    \"\"\"\n",
        "    Compute the predicted labels for the input data.\n",
        "    Parameters:\n",
        "    - X: Features (input data) as a numpy array of shape (n_samples, n_features)\n",
        "    - weights: Updated weights after training\n",
        "    - bias: Updated bias after training\n",
        "    Returns:\n",
        "    - y_pred_all: The predicted labels for the input data\n",
        "    \"\"\"\n",
        "    # Compute the linear output\n",
        "    predictions = np.dot(X, weights) + bias\n",
        "\n",
        "    # Apply step function: 1 if prediction >= 0 (class 5), 0 otherwise (class 3)\n",
        "    y_pred_all = np.where(predictions >= 0, 1, 0)\n",
        "\n",
        "    return y_pred_all\n"
      ]
    },
    {
      "cell_type": "code",
      "execution_count": null,
      "id": "fbd97558-8bae-4335-9731-64ae9b62671e",
      "metadata": {
        "id": "fbd97558-8bae-4335-9731-64ae9b62671e"
      },
      "outputs": [],
      "source": [
        "import numpy as np\n",
        "\n",
        "def train_perceptron(X, y, weights, bias, learning_rate=0.1, epochs=100):\n",
        "    \"\"\"\n",
        "    Train the perceptron using the Perceptron Learning Algorithm.\n",
        "\n",
        "    Parameters:\n",
        "    - X: Features (input data) as a numpy array of shape (n_samples, n_features)\n",
        "    - y: Labels (true output) as a numpy array of shape (n_samples,)\n",
        "    - weights: Initial weights as a numpy array of shape (n_features,)\n",
        "    - bias: Initial bias value (scalar)\n",
        "    - learning_rate: Learning rate for weight updates (default is 0.1)\n",
        "    - epochs: Number of iterations to train the model (default is 100)\n",
        "\n",
        "    Returns:\n",
        "    - weights: Updated weights after training\n",
        "    - bias: Updated bias after training\n",
        "    - accuracy: Final accuracy after training\n",
        "    \"\"\"\n",
        "\n",
        "    n_samples = X.shape[0]  # Number of training samples\n",
        "\n",
        "    for epoch in range(epochs):\n",
        "        correct_predictions = 0  # Track correct predictions\n",
        "\n",
        "        for i in range(n_samples):\n",
        "            # Compute prediction using step function\n",
        "            prediction = np.dot(X[i], weights) + bias\n",
        "            y_pred = 1 if prediction >= 0 else 0  # Step function\n",
        "\n",
        "            # Update weights and bias if prediction is incorrect\n",
        "            if y_pred != y[i]:\n",
        "                update = learning_rate * (y[i] - y_pred)\n",
        "                weights += update * X[i]\n",
        "                bias += update\n",
        "            else:\n",
        "                correct_predictions += 1\n",
        "\n",
        "        # Calculate accuracy after each epoch\n",
        "        accuracy = correct_predictions / n_samples\n",
        "\n",
        "        # Print accuracy for debugging\n",
        "        print(f\"Epoch {epoch+1}/{epochs} - Accuracy: {accuracy:.2f}\")\n",
        "\n",
        "    return weights, bias, accuracy\n"
      ]
    },
    {
      "cell_type": "code",
      "execution_count": null,
      "id": "51965730-ae7d-41b5-a31b-7df4ed13b898",
      "metadata": {
        "id": "51965730-ae7d-41b5-a31b-7df4ed13b898",
        "outputId": "34032d2b-70f5-4628-d864-121853b7f01b"
      },
      "outputs": [
        {
          "name": "stdout",
          "output_type": "stream",
          "text": [
            "Epoch 1/100 - Accuracy: 0.00\n",
            "Epoch 2/100 - Accuracy: 0.00\n",
            "Epoch 3/100 - Accuracy: 0.00\n",
            "Epoch 4/100 - Accuracy: 0.00\n",
            "Epoch 5/100 - Accuracy: 0.00\n",
            "Epoch 6/100 - Accuracy: 0.00\n",
            "Epoch 7/100 - Accuracy: 0.00\n",
            "Epoch 8/100 - Accuracy: 0.00\n",
            "Epoch 9/100 - Accuracy: 0.00\n",
            "Epoch 10/100 - Accuracy: 0.00\n",
            "Epoch 11/100 - Accuracy: 0.00\n",
            "Epoch 12/100 - Accuracy: 0.00\n",
            "Epoch 13/100 - Accuracy: 0.00\n",
            "Epoch 14/100 - Accuracy: 0.00\n",
            "Epoch 15/100 - Accuracy: 0.00\n",
            "Epoch 16/100 - Accuracy: 0.00\n",
            "Epoch 17/100 - Accuracy: 0.00\n",
            "Epoch 18/100 - Accuracy: 0.00\n",
            "Epoch 19/100 - Accuracy: 0.00\n",
            "Epoch 20/100 - Accuracy: 0.00\n",
            "Epoch 21/100 - Accuracy: 0.00\n",
            "Epoch 22/100 - Accuracy: 0.00\n",
            "Epoch 23/100 - Accuracy: 0.00\n",
            "Epoch 24/100 - Accuracy: 0.00\n",
            "Epoch 25/100 - Accuracy: 0.00\n",
            "Epoch 26/100 - Accuracy: 0.00\n",
            "Epoch 27/100 - Accuracy: 0.00\n",
            "Epoch 28/100 - Accuracy: 0.00\n",
            "Epoch 29/100 - Accuracy: 0.00\n",
            "Epoch 30/100 - Accuracy: 0.00\n",
            "Epoch 31/100 - Accuracy: 0.00\n",
            "Epoch 32/100 - Accuracy: 0.00\n",
            "Epoch 33/100 - Accuracy: 0.00\n",
            "Epoch 34/100 - Accuracy: 0.00\n",
            "Epoch 35/100 - Accuracy: 0.00\n",
            "Epoch 36/100 - Accuracy: 0.00\n",
            "Epoch 37/100 - Accuracy: 0.00\n",
            "Epoch 38/100 - Accuracy: 0.00\n",
            "Epoch 39/100 - Accuracy: 0.00\n",
            "Epoch 40/100 - Accuracy: 0.00\n",
            "Epoch 41/100 - Accuracy: 0.00\n",
            "Epoch 42/100 - Accuracy: 0.00\n",
            "Epoch 43/100 - Accuracy: 0.00\n",
            "Epoch 44/100 - Accuracy: 0.00\n",
            "Epoch 45/100 - Accuracy: 0.00\n",
            "Epoch 46/100 - Accuracy: 0.00\n",
            "Epoch 47/100 - Accuracy: 0.00\n",
            "Epoch 48/100 - Accuracy: 0.00\n",
            "Epoch 49/100 - Accuracy: 0.00\n",
            "Epoch 50/100 - Accuracy: 0.00\n",
            "Epoch 51/100 - Accuracy: 0.00\n",
            "Epoch 52/100 - Accuracy: 0.00\n",
            "Epoch 53/100 - Accuracy: 0.00\n",
            "Epoch 54/100 - Accuracy: 0.00\n",
            "Epoch 55/100 - Accuracy: 0.00\n",
            "Epoch 56/100 - Accuracy: 0.00\n",
            "Epoch 57/100 - Accuracy: 0.00\n",
            "Epoch 58/100 - Accuracy: 0.00\n",
            "Epoch 59/100 - Accuracy: 0.00\n",
            "Epoch 60/100 - Accuracy: 0.00\n",
            "Epoch 61/100 - Accuracy: 0.00\n",
            "Epoch 62/100 - Accuracy: 0.00\n",
            "Epoch 63/100 - Accuracy: 0.00\n",
            "Epoch 64/100 - Accuracy: 0.00\n",
            "Epoch 65/100 - Accuracy: 0.00\n",
            "Epoch 66/100 - Accuracy: 0.00\n",
            "Epoch 67/100 - Accuracy: 0.00\n",
            "Epoch 68/100 - Accuracy: 0.00\n",
            "Epoch 69/100 - Accuracy: 0.00\n",
            "Epoch 70/100 - Accuracy: 0.00\n",
            "Epoch 71/100 - Accuracy: 0.00\n",
            "Epoch 72/100 - Accuracy: 0.00\n",
            "Epoch 73/100 - Accuracy: 0.00\n",
            "Epoch 74/100 - Accuracy: 0.00\n",
            "Epoch 75/100 - Accuracy: 0.00\n",
            "Epoch 76/100 - Accuracy: 0.00\n",
            "Epoch 77/100 - Accuracy: 0.00\n",
            "Epoch 78/100 - Accuracy: 0.00\n",
            "Epoch 79/100 - Accuracy: 0.00\n",
            "Epoch 80/100 - Accuracy: 0.00\n",
            "Epoch 81/100 - Accuracy: 0.00\n",
            "Epoch 82/100 - Accuracy: 0.00\n",
            "Epoch 83/100 - Accuracy: 0.00\n",
            "Epoch 84/100 - Accuracy: 0.00\n",
            "Epoch 85/100 - Accuracy: 0.00\n",
            "Epoch 86/100 - Accuracy: 0.00\n",
            "Epoch 87/100 - Accuracy: 0.00\n",
            "Epoch 88/100 - Accuracy: 0.00\n",
            "Epoch 89/100 - Accuracy: 0.00\n",
            "Epoch 90/100 - Accuracy: 0.00\n",
            "Epoch 91/100 - Accuracy: 0.00\n",
            "Epoch 92/100 - Accuracy: 0.00\n",
            "Epoch 93/100 - Accuracy: 0.00\n",
            "Epoch 94/100 - Accuracy: 0.00\n",
            "Epoch 95/100 - Accuracy: 0.00\n",
            "Epoch 96/100 - Accuracy: 0.00\n",
            "Epoch 97/100 - Accuracy: 0.00\n",
            "Epoch 98/100 - Accuracy: 0.00\n",
            "Epoch 99/100 - Accuracy: 0.00\n",
            "Epoch 100/100 - Accuracy: 0.00\n",
            "The Final Accuracy is:  0.0\n"
          ]
        }
      ],
      "source": [
        "# Assuming X is the training data and y are the corresponding labels (0 for 3, 1 for 5)\n",
        "weights = np.zeros(X.shape[1])  # Initialize weights (assuming 784 features for each sample)\n",
        "bias = 0  # Initialize bias\n",
        "\n",
        "# Train the perceptron model\n",
        "weights, bias, accuracy = train_perceptron(X, y, weights, bias)\n",
        "\n",
        "# Print the final accuracy after training\n",
        "print(\"The Final Accuracy is: \", accuracy)\n"
      ]
    },
    {
      "cell_type": "code",
      "execution_count": null,
      "id": "fdad5d49-6ae9-4fff-b7b7-691e6be2d1ec",
      "metadata": {
        "id": "fdad5d49-6ae9-4fff-b7b7-691e6be2d1ec",
        "outputId": "6674a318-b4a7-405a-a396-8c840061a465"
      },
      "outputs": [
        {
          "name": "stdout",
          "output_type": "stream",
          "text": [
            "Final Accuracy: 0.0000\n"
          ]
        },
        {
          "data": {
            "image/png": "[encoded data removed]",
            "text/plain": [
              "<Figure size 1000x500 with 10 Axes>"
            ]
          },
          "metadata": {},
          "output_type": "display_data"
        }
      ],
      "source": [
        "# Get predictions for all data points\n",
        "predictions = np.dot(X, weights) + bias\n",
        "y_pred = np.where(predictions >= 0, 1, 0)  # Apply step function (1 if prediction >= 0, 0 otherwise)\n",
        "\n",
        "# Calculate final accuracy\n",
        "final_accuracy = np.mean(y_pred == y)\n",
        "print(f\"Final Accuracy: {final_accuracy:.4f}\")\n",
        "\n",
        "# Step 5: Visualize Misclassified Images\n",
        "misclassified_idx = np.where(y_pred != y)[0]  # Find misclassified indexes\n",
        "\n",
        "if len(misclassified_idx) > 0:\n",
        "    # Display first 10 misclassified images\n",
        "    fig, axes = plt.subplots(2, 5, figsize=(10, 5))\n",
        "    for ax, idx in zip(axes.flat, misclassified_idx[:10]):\n",
        "        ax.imshow(X[idx].reshape(28, 28), cmap=\"gray\")  # Reshape to 28x28 for image display\n",
        "        ax.set_title(f\"Pred: {y_pred[idx]}, True: {y[idx]}\")\n",
        "        ax.axis(\"off\")  # Hide axes for clarity\n",
        "\n",
        "    plt.suptitle(\"Misclassified Images\")\n",
        "    plt.show()\n",
        "else:\n",
        "    print(\"All images were correctly classified!\")"
      ]
    }
  ],
  "metadata": {
    "kernelspec": {
      "display_name": "Python 3 (ipykernel)",
      "language": "python",
      "name": "python3"
    },
    "language_info": {
      "codemirror_mode": {
        "name": "ipython",
        "version": 3
      },
      "file_extension": ".py",
      "mimetype": "text/x-python",
      "name": "python",
      "nbconvert_exporter": "python",
      "pygments_lexer": "ipython3",
      "version": "3.12.7"
    },
    "colab": {
      "provenance": []
    }
  },
  "nbformat": 4,
  "nbformat_minor": 5
}