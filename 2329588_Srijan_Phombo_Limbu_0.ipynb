{
  "cells": [
    {
      "cell_type": "markdown",
      "id": "721a27b9-d4c8-4ee7-acb0-610ebadb998f",
      "metadata": {
        "id": "721a27b9-d4c8-4ee7-acb0-610ebadb998f"
      },
      "source": [
        "<bold>Exercise On Functions</bold>"
      ]
    },
    {
      "cell_type": "code",
      "execution_count": null,
      "id": "93fe2691-66c5-4ad9-82d1-0d5df295110c",
      "metadata": {
        "id": "93fe2691-66c5-4ad9-82d1-0d5df295110c",
        "outputId": "8dc78263-32ae-4169-9d07-ba3c319ee35b"
      },
      "outputs": [
        {
          "name": "stdout",
          "output_type": "stream",
          "text": [
            "Choose a conversion type: \n",
            "1. Length\n",
            "2. Weight\n",
            "3. Volume\n",
            "Enter your choice (1-3): k\n",
            "Invalid input. Please enter a number.\n"
          ]
        }
      ],
      "source": [
        "#Task01: Create a Python program that converts between different units of measurement.\n",
        "def m_to_ft(meters):\n",
        "    return meters * 3.280\n",
        "\n",
        "def ft_to_m(feet):\n",
        "    return feet / 3.280\n",
        "\n",
        "def kg_to_lbs(kilogram):\n",
        "    return kilogram * 2.204\n",
        "\n",
        "def lbs_to_kg(pounds):\n",
        "    return pounds / 2.204\n",
        "\n",
        "def l_to_gal(liter):\n",
        "    return liter * 0.2641\n",
        "\n",
        "def gal_to_l(gallon):\n",
        "    return gallon / 0.2641\n",
        "\n",
        "def conversion():\n",
        "    try:\n",
        "        print(\"Choose a conversion type: \")\n",
        "        print(\"1. Length\")\n",
        "        print(\"2. Weight\")\n",
        "        print(\"3. Volume\")\n",
        "        choice = int(input(\"Enter your choice (1-3): \"))\n",
        "\n",
        "        if choice == 1:\n",
        "            print(\"1. Meters to Feet\")\n",
        "            print(\"2. Feet to Meters\")\n",
        "            choice2 = int(input(\"Enter your choice (1-2): \"))\n",
        "            value = float(input(\"Enter your value to convert: \"))\n",
        "            if choice2 == 1:\n",
        "                result = m_to_ft(value)\n",
        "                print(f\"{value}m = {result}ft\")\n",
        "            elif choice2 == 2:\n",
        "                result = ft_to_m(value)\n",
        "                print(f\"{value}ft = {value}m\")\n",
        "            else:\n",
        "                print(\"Invalid choice. Please try again!\")\n",
        "\n",
        "        elif choice == 2:\n",
        "            print(\"1. Kilograms to Pounds\")\n",
        "            print(\"2. Pounds to Kilograms\")\n",
        "            choice2 = int(input(\"Enter your choice (1-2): \"))\n",
        "            value = float(input(\"Enter your value to convert: \"))\n",
        "            if (choice2 == 1):\n",
        "                result = kg_to_lbs(value)\n",
        "                print(f\"{value}kg = {result}lbs\")\n",
        "            elif (choice2 == 2):\n",
        "                result = lbs_to_kg(value)\n",
        "                print(f\"{value}lbs = {result}kg\")\n",
        "            else:\n",
        "                print(\"Invalid choice. Please try again!\")\n",
        "\n",
        "        elif choice == 3:\n",
        "            print(\"1. Liters to Gallons\")\n",
        "            print(\"2. Gallons to Liters\")\n",
        "            choice2 = int(input(\"Enter your choice (1-2): \"))\n",
        "            value = float(input(\"Enter your value to convert: \"))\n",
        "            if (choice2 == 1):\n",
        "                result = l_to_gal(value)\n",
        "                print(f\"{value}l = {result}gal\")\n",
        "            elif (choice2 == 2):\n",
        "                result = gal_to_l(value)\n",
        "                print(f\"{value}gal = {result}l\")\n",
        "            else:\n",
        "                print(\"Invalid choice. Please try again!\")\n",
        "\n",
        "        else:\n",
        "            print(\"Invalid input. Please try again!\")\n",
        "\n",
        "    except ValueError:\n",
        "        print(\"Invalid input. Please enter a number.\")\n",
        "\n",
        "if __name__ == \"__main__\":\n",
        "    conversion()"
      ]
    },
    {
      "cell_type": "code",
      "execution_count": null,
      "id": "2e25f911-566f-4639-8ae1-dd7ab9c17360",
      "metadata": {
        "colab": {
          "base_uri": "https://localhost:8080/"
        },
        "id": "2e25f911-566f-4639-8ae1-dd7ab9c17360",
        "outputId": "5edad334-0928-4304-e91b-07c0853e6f33"
      },
      "outputs": [
        {
          "output_type": "stream",
          "name": "stdout",
          "text": [
            "Choose a mathematical operation:\n",
            "1. Sum\n",
            "2. Average\n",
            "3. Maximum\n",
            "4. Minimum\n",
            "Enter your choice (1-4): 4\n",
            "Enter numbers separated by spaces: 1\n",
            "Minimum: 1.0\n"
          ]
        }
      ],
      "source": [
        "#Task02: Create a Python program that performs various mathematical operations on a list of numbers.\n",
        "def calculate_sum(numbers):\n",
        "    return sum(numbers)\n",
        "\n",
        "def calculate_avg(numbers):\n",
        "    return sum(numbers) / len(numbers) if numbers else 0\n",
        "\n",
        "def find_max(numbers):\n",
        "    return max(numbers)\n",
        "\n",
        "def find_min(numbers):\n",
        "    return min(numbers)\n",
        "\n",
        "def main():\n",
        "    try:\n",
        "        print(\"Choose a mathematical operation:\")\n",
        "        print(\"1. Sum\")\n",
        "        print(\"2. Average\")\n",
        "        print(\"3. Maximum\")\n",
        "        print(\"4. Minimum\")\n",
        "\n",
        "        choice = int(input(\"Enter your choice (1-4): \"))\n",
        "        numbers = list(map(float, input(\"Enter numbers separated by spaces: \").split()))\n",
        "\n",
        "        if not numbers:\n",
        "            print(\"Error: The list of numbers cannot be empty.\")\n",
        "            return\n",
        "\n",
        "        if choice == 1:\n",
        "            print(f\"Sum: {calculate_sum(numbers)}\")\n",
        "        elif choice == 2:\n",
        "            print(f\"Average: {calculate_avg(numbers)}\")\n",
        "        elif choice == 3:\n",
        "            print(f\"Maximum: {find_max(numbers)}\")\n",
        "        elif choice == 4:\n",
        "            print(f\"Minimum: {find_min(numbers)}\")\n",
        "        else:\n",
        "            print(\"Invalid choice.\")\n",
        "    except ValueError:\n",
        "        print(\"Invalid input. Please enter numeric values.\")\n",
        "\n",
        "if __name__ == \"__main__\":\n",
        "    main()\n"
      ]
    },
    {
      "cell_type": "markdown",
      "id": "f37819ae-87e7-472e-b776-4e64ef369503",
      "metadata": {
        "id": "f37819ae-87e7-472e-b776-4e64ef369503"
      },
      "source": [
        "Exercise on List Manipulation"
      ]
    },
    {
      "cell_type": "code",
      "execution_count": null,
      "id": "5fdaf5b3-9d9f-44b6-98e3-fc5e5f5aa7d0",
      "metadata": {
        "colab": {
          "base_uri": "https://localhost:8080/"
        },
        "id": "5fdaf5b3-9d9f-44b6-98e3-fc5e5f5aa7d0",
        "outputId": "5c6eb80c-8174-4a17-c359-13adc21b5b1f"
      },
      "outputs": [
        {
          "output_type": "stream",
          "name": "stdout",
          "text": [
            "Enter elements separated by space: 1 2 3 4 5\n",
            "List: ['1', '2', '3', '4', '5']\n",
            "Every other element in the list: ['1', '3', '5']\n"
          ]
        }
      ],
      "source": [
        "#Task01: Extract Every Other Element:\n",
        "def extract_every_other(lst):\n",
        "    return lst[::2]\n",
        "\n",
        "def main():\n",
        "    user_input = input(\"Enter elements separated by space: \").split()\n",
        "    print(f\"List:\", user_input)\n",
        "    print(f\"Every other element in the list: {extract_every_other(user_input)}\")\n",
        "\n",
        "if __name__ == \"__main__\":\n",
        "    main()"
      ]
    },
    {
      "cell_type": "code",
      "execution_count": null,
      "id": "8325e356-55c9-40de-aec2-8159f0e054ad",
      "metadata": {
        "colab": {
          "base_uri": "https://localhost:8080/"
        },
        "id": "8325e356-55c9-40de-aec2-8159f0e054ad",
        "outputId": "741d32e5-ecfd-4663-bad7-0c9bf507ff08"
      },
      "outputs": [
        {
          "output_type": "stream",
          "name": "stdout",
          "text": [
            "Enter elements separated by space: 1 2 3 4 5 6 \n",
            "Enter start element: 2\n",
            "Enter end element: 5\n",
            "List: ['1', '2', '3', '4', '5', '6']\n",
            "Sliced Sublist: ['3', '4', '5', '6']\n"
          ]
        }
      ],
      "source": [
        "#Task02: Slice a Sublist\n",
        "def get_sublist(lst, start, end):\n",
        "    return lst[start:end+1]\n",
        "\n",
        "def main():\n",
        "    user_input = input(\"Enter elements separated by space: \").split()\n",
        "    start = int(input(\"Enter start element: \"))\n",
        "    end = int(input(\"Enter end element: \"))\n",
        "    print(f\"List:\", user_input)\n",
        "    print(f\"Sliced Sublist: {get_sublist(user_input, start, end)}\")\n",
        "\n",
        "if __name__ == \"__main__\":\n",
        "    main()"
      ]
    },
    {
      "cell_type": "code",
      "execution_count": null,
      "id": "52f7f43e-005b-4508-9221-9020357759bf",
      "metadata": {
        "id": "52f7f43e-005b-4508-9221-9020357759bf",
        "colab": {
          "base_uri": "https://localhost:8080/"
        },
        "outputId": "5a72e7bc-bc43-4388-b3ee-47c42cad53c2"
      },
      "outputs": [
        {
          "output_type": "stream",
          "name": "stdout",
          "text": [
            "Enter elements separated by space: 1 2 3 4 5 6 \n",
            "List: ['1', '2', '3', '4', '5', '6']\n",
            "Reversed List: ['6', '5', '4', '3', '2', '1']\n"
          ]
        }
      ],
      "source": [
        "#Task03: Reverse a List Using Slicing:\n",
        "def reverse_list(lst):\n",
        "    return lst[::-1]\n",
        "\n",
        "def main():\n",
        "    user_input = input(\"Enter elements separated by space: \").split()\n",
        "    print(f\"List:\", user_input)\n",
        "    print(f\"Reversed List: {reverse_list(user_input)}\")\n",
        "\n",
        "if __name__ == \"__main__\":\n",
        "    main()"
      ]
    },
    {
      "cell_type": "code",
      "execution_count": null,
      "id": "718cd9b3-8cba-40e6-8969-5944acdfef31",
      "metadata": {
        "id": "718cd9b3-8cba-40e6-8969-5944acdfef31"
      },
      "outputs": [],
      "source": [
        "#Task04: Remove the First and Last Elements:\n",
        "def remove_first_last(lst):\n",
        "    return lst[1:-1]\n",
        "\n",
        "def main():\n",
        "    user_input = input(\"Enter elements separated by space: \").split()\n",
        "    print(f\"List:\", user_input)\n",
        "    print(f\"Removed first and last elements from list: {remove_first_last(user_input)}\")\n",
        "\n",
        "if __name__ == \"__main__\":\n",
        "    main()"
      ]
    },
    {
      "cell_type": "code",
      "execution_count": null,
      "id": "5b1c1270-5c6d-4fef-beef-1ab28f7d5ff3",
      "metadata": {
        "id": "5b1c1270-5c6d-4fef-beef-1ab28f7d5ff3",
        "outputId": "a872af34-7b1b-4027-a6ef-6d723cebef12"
      },
      "outputs": [
        {
          "name": "stdout",
          "output_type": "stream",
          "text": [
            "Enter elements separated by space: 12 4 5 \n",
            "Enter the number of elements to be displayed: 1\n",
            "List: ['12', '4', '5']\n",
            "First 1 elements: ['4']\n"
          ]
        }
      ],
      "source": [
        "#Task05: Get the First n Elements:\n",
        "def get_first_n(lst, n):\n",
        "    return lst[1:-1]\n",
        "\n",
        "def main():\n",
        "    user_input = input(\"Enter elements separated by space: \").split()\n",
        "    n = int(input(\"Enter the number of elements to be displayed: \"))\n",
        "    print(f\"List:\", user_input)\n",
        "    print(f\"First {n} elements: {get_first_n(user_input, n)}\")\n",
        "\n",
        "main()"
      ]
    },
    {
      "cell_type": "code",
      "execution_count": null,
      "id": "8b942083-70cf-4412-a297-b76a74c4ccc0",
      "metadata": {
        "id": "8b942083-70cf-4412-a297-b76a74c4ccc0",
        "outputId": "1c44505f-637c-4a30-8470-6427c913ce22"
      },
      "outputs": [
        {
          "name": "stdout",
          "output_type": "stream",
          "text": [
            "Enter elements separated by space: 89 0 7 5 \n",
            "Enter the number of elements to be displayed from last: 2\n",
            "List: ['89', '0', '7', '5']\n",
            "Every other element in the list: ['7', '5']\n"
          ]
        }
      ],
      "source": [
        "#Task06: Extract Elements from the End:\n",
        "def get_last_n(lst, n):\n",
        "    return lst[-n:]\n",
        "\n",
        "def main():\n",
        "    user_input = input(\"Enter elements separated by space: \").split()\n",
        "    n = int(input(\"Enter the number of elements to be displayed from last: \"))\n",
        "    print(f\"List:\", user_input)\n",
        "    print(f\"Every other element in the list: {get_last_n(user_input, n)}\")\n",
        "\n",
        "if __name__ == \"__main__\":\n",
        "    main()"
      ]
    },
    {
      "cell_type": "code",
      "execution_count": null,
      "id": "8708a681-4537-4674-b0fe-d605394cd6ba",
      "metadata": {
        "id": "8708a681-4537-4674-b0fe-d605394cd6ba"
      },
      "outputs": [],
      "source": [
        "#Task07: Extract Elements in Reverse Order:\n",
        "def reverse_skip(lst):\n",
        "    return lst[-2::-2]\n",
        "\n",
        "def main():\n",
        "    user_input = input(\"Enter elements separated by space: \").split()\n",
        "    print(f\"List:\", user_input)\n",
        "    print(f\"Elements in reverse order starting from second-to-last: {reverse_skip(user_input)}\")\n",
        "\n",
        "if __name__ == \"__main__\":\n",
        "    main()"
      ]
    },
    {
      "cell_type": "markdown",
      "id": "3c2f3846-d37d-48eb-b2a0-efcbea24796a",
      "metadata": {
        "id": "3c2f3846-d37d-48eb-b2a0-efcbea24796a"
      },
      "source": [
        "Exercise on Nested List:"
      ]
    },
    {
      "cell_type": "code",
      "execution_count": null,
      "id": "5bee384f-aa52-49a4-9b35-c85c8dc2770f",
      "metadata": {
        "id": "5bee384f-aa52-49a4-9b35-c85c8dc2770f",
        "outputId": "2481be9f-ccd4-49f8-db00-a82d897a8f5b",
        "colab": {
          "base_uri": "https://localhost:8080/"
        }
      },
      "outputs": [
        {
          "output_type": "stream",
          "name": "stdout",
          "text": [
            "Enter the number of sublists: 2\n",
            "Enter the number of elements in sublist 1: 3\n",
            "Enter element 1 of sublist 1: A\n",
            "Enter element 2 of sublist 1: B\n",
            "Enter element 3 of sublist 1: C\n",
            "Enter the number of elements in sublist 2: 2\n",
            "Enter element 1 of sublist 2: D \n",
            "Enter element 2 of sublist 2: C\n",
            "Original Nested List: [['A', 'B', 'C'], ['D ', 'C']]\n",
            "Flattened List: ['A', 'B', 'C', 'D ', 'C']\n"
          ]
        }
      ],
      "source": [
        "#Task01: Flatten a Nested List\n",
        "def flatten(lst):\n",
        "    flat_list = []\n",
        "    for item in lst:\n",
        "        if isinstance(item, list):\n",
        "            flat_list.extend(flatten(item))\n",
        "        else:\n",
        "            flat_list.append(item)\n",
        "    return flat_list\n",
        "\n",
        "def main():\n",
        "    x = int(input(\"Enter the number of sublists: \"))\n",
        "    list1 = []\n",
        "\n",
        "    for i in range(x):\n",
        "        y = int(input(f\"Enter the number of elements in sublist {i+1}: \"))\n",
        "        sublist = []\n",
        "        for j in range(y):\n",
        "            sublist.append(input(f\"Enter element {j+1} of sublist {i+1}: \"))\n",
        "        list1.append(sublist)\n",
        "\n",
        "    print(\"Original Nested List:\", list1)\n",
        "    print(\"Flattened List:\", flatten(list1))\n",
        "\n",
        "if __name__ == \"__main__\":\n",
        "    main()\n"
      ]
    },
    {
      "cell_type": "code",
      "execution_count": null,
      "id": "af0ff82e-0a22-4af8-bf59-19dd5718b6d5",
      "metadata": {
        "id": "af0ff82e-0a22-4af8-bf59-19dd5718b6d5"
      },
      "outputs": [],
      "source": [
        "#Task02: Accessing Nested List Elements\n",
        "def access_nested_element(lst, indices):\n",
        "    elem = lst\n",
        "    for index in indices:\n",
        "        elem = elem[index]\n",
        "    return elem\n",
        "\n",
        "def main():\n",
        "    x = int(input(\"Enter the number of sublists: \"))\n",
        "    list1 = []\n",
        "\n",
        "    for i in range(x):\n",
        "        y = int(input(f\"Enter the number of elements in sublist {i+1}: \"))\n",
        "        sublist = []\n",
        "        for j in range(y):\n",
        "            sublist.append(input(f\"Enter element {j+1} of sublist {i+1}: \"))\n",
        "        list1.append(sublist)\n",
        "\n",
        "    print(\"Original Nested List:\", list1)\n",
        "\n",
        "    indices = list(map(int, input(\"Enter indices separated by space: \").split()))\n",
        "\n",
        "    try:\n",
        "        print(\"Element at indices\", indices, \":\", access_nested_element(list1, indices))\n",
        "    except IndexError:\n",
        "        print(\"Error: Indices out of range!\")\n",
        "\n",
        "if __name__ == \"__main__\":\n",
        "    main()\n"
      ]
    },
    {
      "cell_type": "code",
      "execution_count": null,
      "id": "b4c16568-97a9-4932-9f2c-06644a233aa1",
      "metadata": {
        "id": "b4c16568-97a9-4932-9f2c-06644a233aa1"
      },
      "outputs": [],
      "source": [
        "#Task03: Sum of All Elements in a Nested List\n",
        "def sum_nested(lst):\n",
        "    return sum(flatten(lst))\n",
        "\n",
        "def main():\n",
        "    x = int(input(\"Enter the number of sublists: \"))\n",
        "    list1 = []\n",
        "\n",
        "    for i in range(x):\n",
        "        y = int(input(f\"Enter the number of elements in sublist {i+1}: \"))\n",
        "        sublist = []\n",
        "        for j in range(y):\n",
        "            sublist.append(int(input(f\"Enter element {j+1} of sublist {i+1}: \")))\n",
        "        list1.append(sublist)\n",
        "\n",
        "    print(\"Original Nested List:\", list1)\n",
        "    print(\"Sum of all elements:\", sum_nested(list1))\n",
        "\n",
        "if __name__ == \"__main__\":\n",
        "    main()\n"
      ]
    },
    {
      "cell_type": "code",
      "execution_count": null,
      "id": "30e300f8-d387-4457-901f-3899f452ff20",
      "metadata": {
        "id": "30e300f8-d387-4457-901f-3899f452ff20"
      },
      "outputs": [],
      "source": [
        "#Task04: Remove Specific Element from a Nested List\n",
        "def remove_element(lst, elem):\n",
        "    if isinstance(lst, list):\n",
        "        return [remove_element(sublist, elem) for sublist in lst if sublist != elem]\n",
        "    return lst if lst != elem else None\n",
        "\n",
        "def clean_list(lst):\n",
        "    if isinstance(lst, list):\n",
        "        return [clean_list(item) for item in lst if item is not None]\n",
        "    return lst\n",
        "\n",
        "def main():\n",
        "    x = int(input(\"Enter the number of sublists: \"))\n",
        "    list1 = []\n",
        "\n",
        "    for i in range(x):\n",
        "        y = int(input(f\"Enter the number of elements in sublist {i+1}: \"))\n",
        "        sublist = []\n",
        "        for j in range(y):\n",
        "            sublist.append(int(input(f\"Enter element {j+1} of sublist {i+1}: \")))\n",
        "        list1.append(sublist)\n",
        "\n",
        "    elem = int(input(\"Enter element to remove: \"))\n",
        "    modified_list = clean_list(remove_element(list1, elem))\n",
        "\n",
        "    print(\"Original Nested List:\", list1)\n",
        "    print(\"Modified list:\", modified_list)\n",
        "\n",
        "if __name__ == \"__main__\":\n",
        "    main()\n"
      ]
    },
    {
      "cell_type": "code",
      "execution_count": null,
      "id": "6d342ec6-b2b6-4dad-b861-3e379282d6bf",
      "metadata": {
        "id": "6d342ec6-b2b6-4dad-b861-3e379282d6bf",
        "outputId": "9302f70c-09da-4b9a-93ff-ee35130704f7"
      },
      "outputs": [
        {
          "name": "stdout",
          "output_type": "stream",
          "text": [
            "Enter the number of sublists: 2\n",
            "Enter the number of elements in sublist 1: 1\n",
            "Enter element 1 of sublist 1: 6\n",
            "Enter the number of elements in sublist 2: 2\n",
            "Enter element 1 of sublist 2: 1\n",
            "Enter element 2 of sublist 2: 4\n",
            "Original Nested List: [[6], [1, 4]]\n",
            "Maximum element: 6\n"
          ]
        }
      ],
      "source": [
        "#Task05: Find the Maximum Element in a Nested List\n",
        "def find_max(lst):\n",
        "    return max(flatten(lst))\n",
        "\n",
        "def main():\n",
        "    x = int(input(\"Enter the number of sublists: \"))\n",
        "    list1 = []\n",
        "\n",
        "    for i in range(x):\n",
        "        y = int(input(f\"Enter the number of elements in sublist {i+1}: \"))\n",
        "        sublist = []\n",
        "        for j in range(y):\n",
        "            sublist.append(int(input(f\"Enter element {j+1} of sublist {i+1}: \")))\n",
        "        list1.append(sublist)\n",
        "\n",
        "    print(\"Original Nested List:\", list1)\n",
        "    print(\"Maximum element:\", find_max(list1))\n",
        "\n",
        "if __name__ == \"__main__\":\n",
        "    main()"
      ]
    },
    {
      "cell_type": "code",
      "execution_count": null,
      "id": "0006de4c-5948-45e6-b884-7e9d39d0b7d2",
      "metadata": {
        "id": "0006de4c-5948-45e6-b884-7e9d39d0b7d2",
        "outputId": "c28b2241-df3a-44cd-bc5a-720fd99f18c0"
      },
      "outputs": [
        {
          "name": "stdout",
          "output_type": "stream",
          "text": [
            "Enter the number of sublists: 1\n",
            "Enter the number of elements in sublist 1: 2\n",
            "Enter element 1 of sublist 1: 2\n",
            "Enter element 2 of sublist 1: 1\n",
            "Enter element to find: 2\n",
            "Original Nested List: [[2, 1]]\n",
            "Occurrences of element: 1\n"
          ]
        }
      ],
      "source": [
        "#Task06: Count Occurrences of an Element in a Nested List\n",
        "def count_occurrences(lst, elem):\n",
        "    return flatten(lst).count(elem)\n",
        "\n",
        "def main():\n",
        "    x = int(input(\"Enter the number of sublists: \"))\n",
        "    list1 = []\n",
        "\n",
        "    for i in range(x):\n",
        "        y = int(input(f\"Enter the number of elements in sublist {i+1}: \"))\n",
        "        sublist = []\n",
        "        for j in range(y):\n",
        "            sublist.append(int(input(f\"Enter element {j+1} of sublist {i+1}: \")))\n",
        "        list1.append(sublist)\n",
        "\n",
        "    elem = int(input(\"Enter element to find: \"))\n",
        "\n",
        "    print(\"Original Nested List:\", list1)\n",
        "    print(\"Occurrences of element:\", count_occurrences(list1, elem))\n",
        "\n",
        "if\n",
        "  main()"
      ]
    },
    {
      "cell_type": "code",
      "execution_count": null,
      "id": "4419355c-8827-4cd7-b858-6828d970eb13",
      "metadata": {
        "id": "4419355c-8827-4cd7-b858-6828d970eb13",
        "colab": {
          "base_uri": "https://localhost:8080/"
        },
        "outputId": "2d716870-8db0-4032-f99a-b5f9ca78ef88"
      },
      "outputs": [
        {
          "output_type": "stream",
          "name": "stdout",
          "text": [
            "Enter the number of sublists: 2\n",
            "Enter the number of elements in sublist 1: 1\n",
            "Enter element 1 of sublist 1: 2\n",
            "Enter the number of elements in sublist 2: 1\n",
            "Enter element 1 of sublist 2: 3\n",
            "Original Nested List: [['2'], ['3']]\n",
            "Deep Flattened List: ['2', '3']\n"
          ]
        },
        {
          "output_type": "execute_result",
          "data": {
            "text/plain": [
              "2"
            ]
          },
          "metadata": {},
          "execution_count": 5
        }
      ],
      "source": [
        "#Task07: Flatten a List of Lists\n",
        "def flatten(lst):\n",
        "    \"\"\"Recursively flattens a nested list.\"\"\"\n",
        "    flat_list = []\n",
        "    for item in lst:\n",
        "        if isinstance(item, list):  # Check if the item is a list\n",
        "            flat_list.extend(flatten(item))  # Recursively flatten\n",
        "        else:\n",
        "            flat_list.append(item)  # Add non-list item directly\n",
        "    return flat_list\n",
        "\n",
        "def deep_flatten(lst):\n",
        "    return flatten(lst)\n",
        "\n",
        "def main():\n",
        "    x = int(input(\"Enter the number of sublists: \"))\n",
        "    list1 = []\n",
        "\n",
        "    for i in range(x):\n",
        "        y = int(input(f\"Enter the number of elements in sublist {i+1}: \"))\n",
        "        sublist = []\n",
        "        for j in range(y):\n",
        "            sublist.append(input(f\"Enter element {j+1} of sublist {i+1}: \"))\n",
        "        list1.append(sublist)\n",
        "\n",
        "    print(\"Original Nested List:\", list1)\n",
        "    print(\"Deep Flattened List:\", deep_flatten(list1))\n",
        "\n",
        "if __name__ == \"__main__\":\n",
        "    main()\n"
      ]
    },
    {
      "cell_type": "code",
      "execution_count": null,
      "id": "b3047f88-e5f4-4a2f-a633-a4d247242a78",
      "metadata": {
        "id": "b3047f88-e5f4-4a2f-a633-a4d247242a78"
      },
      "outputs": [],
      "source": [
        "#Task08: Nested List Average\n",
        "def average_nested(lst):\n",
        "    flat_list = flatten(lst)\n",
        "    return sum(flat_list) / len(flat_list) if flat_list else 0\n",
        "\n",
        "def main():\n",
        "    x = int(input(\"Enter the number of sublists: \"))\n",
        "    list1 = []\n",
        "\n",
        "    for i in range(x):\n",
        "        y = int(input(f\"Enter the number of elements in sublist {i+1}: \"))\n",
        "        sublist = []\n",
        "        for j in range(y):\n",
        "            sublist.append(int(input(f\"Enter element {j+1} of sublist {i+1}: \")))\n",
        "        list1.append(sublist)\n",
        "\n",
        "    print(\"Original Nested List:\", list1)\n",
        "    print(\"Average of elements:\", average_nested(list1))\n",
        "\n",
        "\n",
        "main()\n",
        "\n"
      ]
    },
    {
      "cell_type": "markdown",
      "id": "fd5bcc46-8f41-4457-bdc1-0d1dd43fb947",
      "metadata": {
        "id": "fd5bcc46-8f41-4457-bdc1-0d1dd43fb947"
      },
      "source": [
        "Basic Vector and Matrix Operation with Numpy"
      ]
    },
    {
      "cell_type": "code",
      "execution_count": null,
      "id": "40530f2e",
      "metadata": {
        "id": "40530f2e"
      },
      "outputs": [],
      "source": []
    },
    {
      "cell_type": "code",
      "execution_count": null,
      "id": "46b8d76f-7637-475f-8a1e-c76eaba19fca",
      "metadata": {
        "id": "46b8d76f-7637-475f-8a1e-c76eaba19fca",
        "outputId": "81f16e2d-4b73-4d07-9121-a8ddf0f7d6a6"
      },
      "outputs": [
        {
          "name": "stdout",
          "output_type": "stream",
          "text": [
            "1. Empty Array (2x2):\n",
            " [[-2.    1.  ]\n",
            " [ 1.75 -0.75]]\n",
            "\n",
            "2. All Ones Array (4x2):\n",
            " [[1. 1.]\n",
            " [1. 1.]\n",
            " [1. 1.]\n",
            " [1. 1.]]\n",
            "\n",
            "3. Array filled with 7 (3x3):\n",
            " [[7 7 7]\n",
            " [7 7 7]\n",
            " [7 7 7]]\n",
            "\n",
            "4. Zeros Array with Same Shape as Reference Array:\n",
            " [[0 0]\n",
            " [0 0]]\n",
            "\n",
            "5. Ones Array with Same Shape as Reference Array:\n",
            " [[1 1]\n",
            " [1 1]]\n",
            "\n",
            "6. Converted NumPy Array:\n",
            " [1 2 3 4]\n"
          ]
        }
      ],
      "source": [
        "import numpy as np\n",
        "# 1. Initialize an empty array with size 2x2\n",
        "empty_array = np.empty((2, 2))\n",
        "print(\"1. Empty Array (2x2):\\n\", empty_array)\n",
        "\n",
        "# 2. Initialize an all-one array with size 4x2\n",
        "ones_array = np.ones((4, 2))\n",
        "print(\"\\n2. All Ones Array (4x2):\\n\", ones_array)\n",
        "\n",
        "# 3. Return a new array of given shape and type, filled with a fill value\n",
        "fill_value_array = np.full((3, 3), 7)\n",
        "print(\"\\n3. Array filled with 7 (3x3):\\n\", fill_value_array)\n",
        "\n",
        "# 4. Return a new array of zeros with the same shape and type as a given array\n",
        "reference_array = np.array([[1, 2], [3, 4]])\n",
        "zeros_like_array = np.zeros_like(reference_array)\n",
        "print(\"\\n4. Zeros Array with Same Shape as Reference Array:\\n\", zeros_like_array)\n",
        "\n",
        "# 5. Return a new array of ones with the same shape and type as a given array\n",
        "ones_like_array = np.ones_like(reference_array)\n",
        "print(\"\\n5. Ones Array with Same Shape as Reference Array:\\n\", ones_like_array)\n",
        "\n",
        "# 6. Convert an existing list to a NumPy array\n",
        "new_list = [1, 2, 3, 4]\n",
        "numpy_array = np.array(new_list)\n",
        "print(\"\\n6. Converted NumPy Array:\\n\", numpy_array)\n"
      ]
    },
    {
      "cell_type": "code",
      "execution_count": null,
      "id": "e876674d-c25c-48d2-ae95-2c05b56d3f44",
      "metadata": {
        "id": "e876674d-c25c-48d2-ae95-2c05b56d3f44",
        "outputId": "fd9d27d0-6746-4e56-a024-353f6d12c37d"
      },
      "outputs": [
        {
          "name": "stdout",
          "output_type": "stream",
          "text": [
            "1. Empty Array (2x2):\n",
            " [[2.12199579e-314 7.02380607e-312]\n",
            " [5.41495948e-321 7.02380607e-312]]\n",
            "\n",
            "2. All Ones Array (4x2):\n",
            " [[1. 1.]\n",
            " [1. 1.]\n",
            " [1. 1.]\n",
            " [1. 1.]]\n",
            "\n",
            "3. Array filled with 5 (3x3):\n",
            " [[5 5 5]\n",
            " [5 5 5]\n",
            " [5 5 5]]\n",
            "\n",
            "4. Zeros Array with Same Shape as Reference Array:\n",
            " [[0 0]\n",
            " [0 0]]\n",
            "\n",
            "5. Ones Array with Same Shape as Reference Array:\n",
            " [[1 1]\n",
            " [1 1]]\n",
            "\n",
            "6. Converted NumPy Array:\n",
            " [1 2 3 4]\n"
          ]
        }
      ],
      "source": [
        "\n",
        "# 1. Initialize an empty array with size 2x2\n",
        "empty_array = np.empty((2, 2))\n",
        "print(\"1. Empty Array (2x2):\\n\", empty_array)\n",
        "\n",
        "# 2. Initialize an all-one array with size 4x2\n",
        "ones_array = np.ones((4, 2))\n",
        "print(\"\\n2. All Ones Array (4x2):\\n\", ones_array)\n",
        "\n",
        "# 3. Return a new array of given shape and type, filled with a fill value\n",
        "fill_value = 5\n",
        "filled_array = np.full((3, 3), fill_value)\n",
        "print(\"\\n3. Array filled with\", fill_value, \"(3x3):\\n\", filled_array)\n",
        "\n",
        "# 4. Return a new array of zeros with the same shape and type as a given array\n",
        "reference_array = np.array([[1, 2], [3, 4]])\n",
        "zeros_like_array = np.zeros_like(reference_array)\n",
        "print(\"\\n4. Zeros Array with Same Shape as Reference Array:\\n\", zeros_like_array)\n",
        "\n",
        "# 5. Return a new array of ones with the same shape and type as a given array\n",
        "ones_like_array = np.ones_like(reference_array)\n",
        "print(\"\\n5. Ones Array with Same Shape as Reference Array:\\n\", ones_like_array)\n",
        "\n",
        "# 6. Convert an existing list to a NumPy array\n",
        "new_list = [1, 2, 3, 4]\n",
        "numpy_array = np.array(new_list)\n",
        "print(\"\\n6. Converted NumPy Array:\\n\", numpy_array)\n"
      ]
    },
    {
      "cell_type": "code",
      "execution_count": null,
      "id": "202dccf9-6a21-4aae-8a38-836f3273f497",
      "metadata": {
        "id": "202dccf9-6a21-4aae-8a38-836f3273f497",
        "outputId": "a1ae81a6-4f64-4d75-8899-7c0cfb6fde30"
      },
      "outputs": [
        {
          "name": "stdout",
          "output_type": "stream",
          "text": [
            "Addition of x and y:\n",
            " [[ 6  8]\n",
            " [10 13]]\n",
            "\n",
            "Subtraction of x and y:\n",
            " [[-4 -4]\n",
            " [-4 -3]]\n",
            "\n",
            "Multiplication of x with 3:\n",
            " [[ 3  6]\n",
            " [ 9 15]]\n",
            "\n",
            "Square of each element of x:\n",
            " [[ 1  4]\n",
            " [ 9 25]]\n",
            "\n",
            "Dot product of v and w: 219\n",
            "\n",
            "Dot product of x and v:\n",
            " [29 77]\n",
            "\n",
            "Dot product of x and y:\n",
            " [[19 22]\n",
            " [50 58]]\n",
            "\n",
            "Concatenation of x and y along rows:\n",
            " [[1 2]\n",
            " [3 5]\n",
            " [5 6]\n",
            " [7 8]]\n",
            "\n",
            "Concatenation of v and w along columns:\n",
            " [[ 9 10]\n",
            " [11 12]]\n",
            "\n",
            "Error while concatenating x and v: all the input arrays must have same number of dimensions, but the array at index 0 has 2 dimension(s) and the array at index 1 has 1 dimension(s)\n",
            "Reason: x has shape (2,2) and v has shape (2,). Their dimensions are incompatible for direct concatenation.\n"
          ]
        }
      ],
      "source": [
        "import numpy as np\n",
        "\n",
        "# Given arrays\n",
        "x = np.array([[1, 2], [3, 5]])\n",
        "y = np.array([[5, 6], [7, 8]])\n",
        "v = np.array([9, 10])\n",
        "w = np.array([11, 12])\n",
        "\n",
        "# 1. Add the two arrays\n",
        "add_xy = x + y\n",
        "print(\"Addition of x and y:\\n\", add_xy)\n",
        "\n",
        "# 2. Subtract the two arrays\n",
        "sub_xy = x - y\n",
        "print(\"\\nSubtraction of x and y:\\n\", sub_xy)\n",
        "\n",
        "# 3. Multiply the array x with any integer (e.g., 3)\n",
        "mult_x = x * 3\n",
        "print(\"\\nMultiplication of x with 3:\\n\", mult_x)\n",
        "\n",
        "# 4. Find the square of each element of x\n",
        "square_x = x ** 2\n",
        "print(\"\\nSquare of each element of x:\\n\", square_x)\n",
        "\n",
        "# 5. Dot product calculations\n",
        "dot_vw = np.dot(v, w)\n",
        "dot_xv = np.dot(x, v)\n",
        "dot_xy = np.dot(x, y)\n",
        "\n",
        "print(\"\\nDot product of v and w:\", dot_vw)\n",
        "print(\"\\nDot product of x and v:\\n\", dot_xv)\n",
        "print(\"\\nDot product of x and y:\\n\", dot_xy)\n",
        "\n",
        "# 6. Concatenation\n",
        "concat_xy_row = np.concatenate((x, y), axis=0)  # Along rows\n",
        "concat_vw_col = np.vstack((v, w))  # Along columns\n",
        "\n",
        "print(\"\\nConcatenation of x and y along rows:\\n\", concat_xy_row)\n",
        "print(\"\\nConcatenation of v and w along columns:\\n\", concat_vw_col)\n",
        "\n",
        "# 7. Concatenate x and v\n",
        "try:\n",
        "    concat_xv = np.concatenate((x, v), axis=0)  # Attempting to concatenate x and v\n",
        "    print(\"\\nConcatenation of x and v:\\n\", concat_xv)\n",
        "except ValueError as e:\n",
        "    print(\"\\nError while concatenating x and v:\", e)\n",
        "    print(\"Reason: x has shape (2,2) and v has shape (2,). Their dimensions are incompatible for direct concatenation.\")\n"
      ]
    },
    {
      "cell_type": "code",
      "execution_count": null,
      "id": "035ccbae-b0b5-4ce7-863e-5537fd4c4efb",
      "metadata": {
        "id": "035ccbae-b0b5-4ce7-863e-5537fd4c4efb",
        "outputId": "62b5761e-6a41-461f-aa3e-ab256b5c3f8f"
      },
      "outputs": [
        {
          "name": "stdout",
          "output_type": "stream",
          "text": [
            "A * A_inv:\n",
            " [[1.0000000e+00 4.4408921e-16]\n",
            " [0.0000000e+00 1.0000000e+00]]\n",
            "\n",
            "Identity Matrix:\n",
            " [[1. 0.]\n",
            " [0. 1.]]\n"
          ]
        }
      ],
      "source": [
        "import numpy as np\n",
        "\n",
        "A = np.array([[3, 4], [7, 8]])\n",
        "B = np.array([[5, 3], [2, 1]])\n",
        "\n",
        "A_inv = np.linalg.inv(A)\n",
        "\n",
        "identity_matrix = np.dot(A, A_inv)\n",
        "\n",
        "print(\"A * A_inv:\\n\", identity_matrix)\n",
        "print(\"\\nIdentity Matrix:\\n\", np.eye(2))  # Expected identity matrix\n"
      ]
    },
    {
      "cell_type": "code",
      "execution_count": null,
      "id": "527557fd-8c90-4007-aef5-27e00c870dec",
      "metadata": {
        "id": "527557fd-8c90-4007-aef5-27e00c870dec",
        "outputId": "bbbd0d50-6e81-49df-c4ce-1f85db134ea8"
      },
      "outputs": [
        {
          "name": "stdout",
          "output_type": "stream",
          "text": [
            "\n",
            "AB:\n",
            " [[23 13]\n",
            " [51 29]]\n",
            "\n",
            "BA:\n",
            " [[36 44]\n",
            " [13 16]]\n",
            "\n",
            "Are AB and BA equal? False\n"
          ]
        }
      ],
      "source": [
        "AB = np.dot(A, B)\n",
        "BA = np.dot(B, A)\n",
        "\n",
        "print(\"\\nAB:\\n\", AB)\n",
        "print(\"\\nBA:\\n\", BA)\n",
        "print(\"\\nAre AB and BA equal?\", np.array_equal(AB, BA))"
      ]
    },
    {
      "cell_type": "code",
      "execution_count": null,
      "id": "9625d918-539b-42dc-8c3a-b60d8df488c8",
      "metadata": {
        "id": "9625d918-539b-42dc-8c3a-b60d8df488c8",
        "outputId": "8eb0257b-7584-437a-deb2-d716df18a02e"
      },
      "outputs": [
        {
          "name": "stdout",
          "output_type": "stream",
          "text": [
            "\n",
            "(AB)^T:\n",
            " [[23 51]\n",
            " [13 29]]\n",
            "\n",
            "B^T * A^T:\n",
            " [[23 51]\n",
            " [13 29]]\n",
            "\n",
            "Are (AB)^T and B^T * A^T equal? True\n"
          ]
        }
      ],
      "source": [
        "AB_T = np.transpose(AB)\n",
        "\n",
        "BT = np.transpose(B)\n",
        "AT = np.transpose(A)\n",
        "BT_AT = np.dot(BT, AT)\n",
        "\n",
        "print(\"\\n(AB)^T:\\n\", AB_T)\n",
        "print(\"\\nB^T * A^T:\\n\", BT_AT)\n",
        "print(\"\\nAre (AB)^T and B^T * A^T equal?\", np.array_equal(AB_T, BT_AT))\n"
      ]
    },
    {
      "cell_type": "code",
      "execution_count": null,
      "id": "0934b2df-8360-4df8-a6fc-899f474e700d",
      "metadata": {
        "id": "0934b2df-8360-4df8-a6fc-899f474e700d",
        "outputId": "3b938d2f-9c8f-4c82-b12a-1d8e5ec85d22"
      },
      "outputs": [
        {
          "name": "stdout",
          "output_type": "stream",
          "text": [
            "\n",
            "Solution for (x, y, z):\n",
            " [ 2.  1. -2.]\n"
          ]
        }
      ],
      "source": [
        "A = np.array([[2, -3, 1], [1, -1, 2], [3, 1, -1]])\n",
        "B = np.array([-1, -3, 9])\n",
        "\n",
        "A_inv = np.linalg.inv(A)\n",
        "\n",
        "X = np.dot(A_inv, B)\n",
        "\n",
        "print(\"\\nSolution for (x, y, z):\\n\", X)\n"
      ]
    },
    {
      "cell_type": "code",
      "execution_count": null,
      "id": "1ff82f83-5410-4e18-b591-78ef299fe2a9",
      "metadata": {
        "id": "1ff82f83-5410-4e18-b591-78ef299fe2a9",
        "outputId": "6b1b9cda-b77b-46cb-ee4b-d8876e826822"
      },
      "outputs": [
        {
          "name": "stdout",
          "output_type": "stream",
          "text": [
            "Time taken for element-wise addition using lists: 0.12043452262878418 seconds\n",
            "Time taken for element-wise addition using NumPy: 0.002006053924560547 seconds\n",
            "\n",
            "Time taken for element-wise multiplication using lists: 0.12220430374145508 seconds\n",
            "Time taken for element-wise multiplication using NumPy: 0.0020051002502441406 seconds\n",
            "\n",
            "Time taken for dot product using lists: 0.08339452743530273 seconds\n",
            "Time taken for dot product using NumPy: 0.0 seconds\n",
            "\n",
            "Time taken for matrix multiplication using lists: 121.48354887962341 seconds\n",
            "Time taken for matrix multiplication using NumPy: 0.5948615074157715 seconds\n"
          ]
        }
      ],
      "source": [
        "import numpy as np\n",
        "import time\n",
        "\n",
        "# 1. Element-wise Addition\n",
        "size = 1_000_000\n",
        "\n",
        "# Generate lists and arrays\n",
        "list1 = list(range(size))\n",
        "list2 = list(range(size))\n",
        "\n",
        "array1 = np.arange(size)\n",
        "array2 = np.arange(size)\n",
        "\n",
        "# Using Python lists\n",
        "start_time = time.time()\n",
        "list_addition = [list1[i] + list2[i] for i in range(size)]\n",
        "end_time = time.time()\n",
        "print(\"Time taken for element-wise addition using lists:\", end_time - start_time, \"seconds\")\n",
        "\n",
        "# Using NumPy arrays\n",
        "start_time = time.time()\n",
        "array_addition = array1 + array2\n",
        "end_time = time.time()\n",
        "print(\"Time taken for element-wise addition using NumPy:\", end_time - start_time, \"seconds\")\n",
        "\n",
        "\n",
        "# 2. Element-wise Multiplication\n",
        "\n",
        "# Using Python lists\n",
        "start_time = time.time()\n",
        "list_multiplication = [list1[i] * list2[i] for i in range(size)]\n",
        "end_time = time.time()\n",
        "print(\"\\nTime taken for element-wise multiplication using lists:\", end_time - start_time, \"seconds\")\n",
        "\n",
        "# Using NumPy arrays\n",
        "start_time = time.time()\n",
        "array_multiplication = array1 * array2\n",
        "end_time = time.time()\n",
        "print(\"Time taken for element-wise multiplication using NumPy:\", end_time - start_time, \"seconds\")\n",
        "\n",
        "\n",
        "# 3. Dot Product\n",
        "\n",
        "# Using Python lists\n",
        "start_time = time.time()\n",
        "dot_product_list = sum(list1[i] * list2[i] for i in range(size))\n",
        "end_time = time.time()\n",
        "print(\"\\nTime taken for dot product using lists:\", end_time - start_time, \"seconds\")\n",
        "\n",
        "# Using NumPy arrays\n",
        "start_time = time.time()\n",
        "dot_product_numpy = np.dot(array1, array2)\n",
        "end_time = time.time()\n",
        "print(\"Time taken for dot product using NumPy:\", end_time - start_time, \"seconds\")\n",
        "\n",
        "\n",
        "# 4. Matrix Multiplication\n",
        "matrix_size = 1000\n",
        "\n",
        "# Generate matrices\n",
        "matrix1_list = [[i + j for j in range(matrix_size)] for i in range(matrix_size)]\n",
        "matrix2_list = [[i - j for j in range(matrix_size)] for i in range(matrix_size)]\n",
        "\n",
        "matrix1_np = np.array(matrix1_list)\n",
        "matrix2_np = np.array(matrix2_list)\n",
        "\n",
        "# Using Python lists\n",
        "start_time = time.time()\n",
        "result_matrix_list = [[sum(matrix1_list[i][k] * matrix2_list[k][j] for k in range(matrix_size))\n",
        "                       for j in range(matrix_size)] for i in range(matrix_size)]\n",
        "end_time = time.time()\n",
        "print(\"\\nTime taken for matrix multiplication using lists:\", end_time - start_time, \"seconds\")\n",
        "\n",
        "# Using NumPy arrays\n",
        "start_time = time.time()\n",
        "result_matrix_np = np.dot(matrix1_np, matrix2_np)\n",
        "end_time = time.time()\n",
        "print(\"Time taken for matrix multiplication using NumPy:\", end_time - start_time, \"seconds\")\n"
      ]
    }
  ],
  "metadata": {
    "kernelspec": {
      "display_name": "Python 3 (ipykernel)",
      "language": "python",
      "name": "python3"
    },
    "language_info": {
      "codemirror_mode": {
        "name": "ipython",
        "version": 3
      },
      "file_extension": ".py",
      "mimetype": "text/x-python",
      "name": "python",
      "nbconvert_exporter": "python",
      "pygments_lexer": "ipython3",
      "version": "3.9.13"
    },
    "colab": {
      "provenance": []
    }
  },
  "nbformat": 4,
  "nbformat_minor": 5
}